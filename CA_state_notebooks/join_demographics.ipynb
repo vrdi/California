{
 "cells": [
  {
   "cell_type": "markdown",
   "metadata": {},
   "source": [
    "we join demographics data from the statewide database, to the LA_times votes+precincts data."
   ]
  },
  {
   "cell_type": "code",
   "execution_count": 1,
   "metadata": {},
   "outputs": [],
   "source": [
    "import pandas as pd\n",
    "import geopandas as gpd\n",
    "import numpy as np"
   ]
  },
  {
   "cell_type": "code",
   "execution_count": 2,
   "metadata": {},
   "outputs": [],
   "source": [
    "import maup"
   ]
  },
  {
   "cell_type": "markdown",
   "metadata": {},
   "source": [
    "Change the block data epsg to 4326 to have it in the same coordinates system as the precincts data."
   ]
  },
  {
   "cell_type": "code",
   "execution_count": 3,
   "metadata": {},
   "outputs": [],
   "source": [
    "blocks = gpd.read_file('../CA_state_Data/Demographics_swdb/blocks_latlng.shp')"
   ]
  },
  {
   "cell_type": "code",
   "execution_count": 4,
   "metadata": {},
   "outputs": [],
   "source": [
    "precincts = gpd.read_file('../CA_state_Data/CA_fixed_vf/CA_fixed_vf.shp')"
   ]
  },
  {
   "cell_type": "code",
   "execution_count": 5,
   "metadata": {},
   "outputs": [
    {
     "data": {
      "text/plain": [
       "({'init': 'epsg:4326'}, {'init': 'epsg:4326'})"
      ]
     },
     "execution_count": 5,
     "metadata": {},
     "output_type": "execute_result"
    }
   ],
   "source": [
    "blocks.crs, precincts.crs"
   ]
  },
  {
   "cell_type": "code",
   "execution_count": 6,
   "metadata": {},
   "outputs": [
    {
     "data": {
      "text/plain": [
       "['STATEFP10',\n",
       " 'COUNTYFP10',\n",
       " 'tract_x',\n",
       " 'block',\n",
       " 'geoid',\n",
       " 'NAME10',\n",
       " 'MTFCC10',\n",
       " 'UR10',\n",
       " 'UACE10',\n",
       " 'UATYPE',\n",
       " 'FUNCSTAT10',\n",
       " 'ALAND10',\n",
       " 'AWATER10',\n",
       " 'INTPTLAT10',\n",
       " 'INTPTLON10',\n",
       " 'TOTPOP',\n",
       " 'NH_WHITE',\n",
       " 'NH_BLACK',\n",
       " 'NH_AMIN',\n",
       " 'NH_ASIAN',\n",
       " 'NH_NHPI',\n",
       " 'NH_OTHER',\n",
       " 'NH_2MORE',\n",
       " 'HISP',\n",
       " 'VAP',\n",
       " 'HVAP',\n",
       " 'WVAP',\n",
       " 'BVAP',\n",
       " 'AMINVAP',\n",
       " 'ASIANVAP',\n",
       " 'NHPIVAP',\n",
       " 'OTHERVAP',\n",
       " '2MOREVAP',\n",
       " 'NAME',\n",
       " 'state',\n",
       " 'county',\n",
       " 'tract_y',\n",
       " 'geometry']"
      ]
     },
     "execution_count": 6,
     "metadata": {},
     "output_type": "execute_result"
    }
   ],
   "source": [
    "blocks.columns.to_list()"
   ]
  },
  {
   "cell_type": "code",
   "execution_count": 7,
   "metadata": {},
   "outputs": [],
   "source": [
    "variables = [\"TOTPOP\", \n",
    " 'NH_WHITE',\n",
    " 'NH_BLACK',\n",
    " 'NH_AMIN',\n",
    " 'NH_ASIAN',\n",
    " 'NH_NHPI',\n",
    " 'NH_OTHER',\n",
    " 'NH_2MORE',\n",
    " 'HISP',\n",
    " 'VAP',\n",
    " 'HVAP',\n",
    " 'WVAP',\n",
    " 'BVAP',\n",
    " 'AMINVAP',\n",
    " 'ASIANVAP',\n",
    " 'NHPIVAP',\n",
    " 'OTHERVAP',\n",
    " '2MOREVAP']\n"
   ]
  },
  {
   "cell_type": "code",
   "execution_count": 8,
   "metadata": {},
   "outputs": [],
   "source": [
    "from maup.assign import assign_by_covering, assign_to_max\n",
    "\n",
    "# read in blocks and precincts GeoDataFrames\n",
    "\n",
    "inters = maup.intersections(blocks, precincts)\n"
   ]
  },
  {
   "cell_type": "code",
   "execution_count": 10,
   "metadata": {},
   "outputs": [],
   "source": [
    "source_assignment = pd.Series(\n",
    "    inters.index.get_level_values(0), index=inters.index\n",
    ")\n",
    "coverage = inters.area / source_assignment.map(blocks.area)\n",
    "assignment = assign_to_max(coverage)"
   ]
  },
  {
   "cell_type": "code",
   "execution_count": 11,
   "metadata": {},
   "outputs": [
    {
     "data": {
      "text/html": [
       "<div>\n",
       "<style scoped>\n",
       "    .dataframe tbody tr th:only-of-type {\n",
       "        vertical-align: middle;\n",
       "    }\n",
       "\n",
       "    .dataframe tbody tr th {\n",
       "        vertical-align: top;\n",
       "    }\n",
       "\n",
       "    .dataframe thead th {\n",
       "        text-align: right;\n",
       "    }\n",
       "</style>\n",
       "<table border=\"1\" class=\"dataframe\">\n",
       "  <thead>\n",
       "    <tr style=\"text-align: right;\">\n",
       "      <th></th>\n",
       "      <th>TOTPOP</th>\n",
       "      <th>NH_WHITE</th>\n",
       "      <th>NH_BLACK</th>\n",
       "      <th>NH_AMIN</th>\n",
       "      <th>NH_ASIAN</th>\n",
       "      <th>NH_NHPI</th>\n",
       "      <th>NH_OTHER</th>\n",
       "      <th>NH_2MORE</th>\n",
       "      <th>HISP</th>\n",
       "      <th>VAP</th>\n",
       "      <th>HVAP</th>\n",
       "      <th>WVAP</th>\n",
       "      <th>BVAP</th>\n",
       "      <th>AMINVAP</th>\n",
       "      <th>ASIANVAP</th>\n",
       "      <th>NHPIVAP</th>\n",
       "      <th>OTHERVAP</th>\n",
       "      <th>2MOREVAP</th>\n",
       "    </tr>\n",
       "  </thead>\n",
       "  <tbody>\n",
       "    <tr>\n",
       "      <th>0</th>\n",
       "      <td>2223.0</td>\n",
       "      <td>208.0</td>\n",
       "      <td>387.0</td>\n",
       "      <td>15.0</td>\n",
       "      <td>470.0</td>\n",
       "      <td>0.0</td>\n",
       "      <td>6.0</td>\n",
       "      <td>23.0</td>\n",
       "      <td>1114.0</td>\n",
       "      <td>1637.0</td>\n",
       "      <td>761.0</td>\n",
       "      <td>182.0</td>\n",
       "      <td>296.0</td>\n",
       "      <td>14.0</td>\n",
       "      <td>362.0</td>\n",
       "      <td>0.0</td>\n",
       "      <td>4.0</td>\n",
       "      <td>18.0</td>\n",
       "    </tr>\n",
       "    <tr>\n",
       "      <th>1</th>\n",
       "      <td>1270.0</td>\n",
       "      <td>707.0</td>\n",
       "      <td>61.0</td>\n",
       "      <td>2.0</td>\n",
       "      <td>371.0</td>\n",
       "      <td>7.0</td>\n",
       "      <td>3.0</td>\n",
       "      <td>42.0</td>\n",
       "      <td>77.0</td>\n",
       "      <td>1195.0</td>\n",
       "      <td>69.0</td>\n",
       "      <td>672.0</td>\n",
       "      <td>61.0</td>\n",
       "      <td>2.0</td>\n",
       "      <td>348.0</td>\n",
       "      <td>6.0</td>\n",
       "      <td>3.0</td>\n",
       "      <td>34.0</td>\n",
       "    </tr>\n",
       "    <tr>\n",
       "      <th>2</th>\n",
       "      <td>3378.0</td>\n",
       "      <td>72.0</td>\n",
       "      <td>732.0</td>\n",
       "      <td>3.0</td>\n",
       "      <td>66.0</td>\n",
       "      <td>15.0</td>\n",
       "      <td>1.0</td>\n",
       "      <td>41.0</td>\n",
       "      <td>2448.0</td>\n",
       "      <td>2297.0</td>\n",
       "      <td>1570.0</td>\n",
       "      <td>64.0</td>\n",
       "      <td>578.0</td>\n",
       "      <td>2.0</td>\n",
       "      <td>47.0</td>\n",
       "      <td>11.0</td>\n",
       "      <td>0.0</td>\n",
       "      <td>25.0</td>\n",
       "    </tr>\n",
       "    <tr>\n",
       "      <th>3</th>\n",
       "      <td>1700.0</td>\n",
       "      <td>114.0</td>\n",
       "      <td>854.0</td>\n",
       "      <td>1.0</td>\n",
       "      <td>230.0</td>\n",
       "      <td>2.0</td>\n",
       "      <td>7.0</td>\n",
       "      <td>39.0</td>\n",
       "      <td>453.0</td>\n",
       "      <td>1312.0</td>\n",
       "      <td>303.0</td>\n",
       "      <td>107.0</td>\n",
       "      <td>682.0</td>\n",
       "      <td>1.0</td>\n",
       "      <td>189.0</td>\n",
       "      <td>2.0</td>\n",
       "      <td>5.0</td>\n",
       "      <td>23.0</td>\n",
       "    </tr>\n",
       "    <tr>\n",
       "      <th>4</th>\n",
       "      <td>1755.0</td>\n",
       "      <td>1015.0</td>\n",
       "      <td>67.0</td>\n",
       "      <td>3.0</td>\n",
       "      <td>389.0</td>\n",
       "      <td>1.0</td>\n",
       "      <td>10.0</td>\n",
       "      <td>94.0</td>\n",
       "      <td>176.0</td>\n",
       "      <td>1616.0</td>\n",
       "      <td>163.0</td>\n",
       "      <td>954.0</td>\n",
       "      <td>42.0</td>\n",
       "      <td>3.0</td>\n",
       "      <td>363.0</td>\n",
       "      <td>1.0</td>\n",
       "      <td>8.0</td>\n",
       "      <td>82.0</td>\n",
       "    </tr>\n",
       "  </tbody>\n",
       "</table>\n",
       "</div>"
      ],
      "text/plain": [
       "   TOTPOP  NH_WHITE  NH_BLACK  NH_AMIN  NH_ASIAN  NH_NHPI  NH_OTHER  NH_2MORE  \\\n",
       "0  2223.0     208.0     387.0     15.0     470.0      0.0       6.0      23.0   \n",
       "1  1270.0     707.0      61.0      2.0     371.0      7.0       3.0      42.0   \n",
       "2  3378.0      72.0     732.0      3.0      66.0     15.0       1.0      41.0   \n",
       "3  1700.0     114.0     854.0      1.0     230.0      2.0       7.0      39.0   \n",
       "4  1755.0    1015.0      67.0      3.0     389.0      1.0      10.0      94.0   \n",
       "\n",
       "     HISP     VAP    HVAP   WVAP   BVAP  AMINVAP  ASIANVAP  NHPIVAP  OTHERVAP  \\\n",
       "0  1114.0  1637.0   761.0  182.0  296.0     14.0     362.0      0.0       4.0   \n",
       "1    77.0  1195.0    69.0  672.0   61.0      2.0     348.0      6.0       3.0   \n",
       "2  2448.0  2297.0  1570.0   64.0  578.0      2.0      47.0     11.0       0.0   \n",
       "3   453.0  1312.0   303.0  107.0  682.0      1.0     189.0      2.0       5.0   \n",
       "4   176.0  1616.0   163.0  954.0   42.0      3.0     363.0      1.0       8.0   \n",
       "\n",
       "   2MOREVAP  \n",
       "0      18.0  \n",
       "1      34.0  \n",
       "2      25.0  \n",
       "3      23.0  \n",
       "4      82.0  "
      ]
     },
     "execution_count": 11,
     "metadata": {},
     "output_type": "execute_result"
    }
   ],
   "source": [
    "\n",
    "precincts[variables] = blocks[variables].groupby(assignment).sum()\n",
    "precincts[variables].head()"
   ]
  },
  {
   "cell_type": "code",
   "execution_count": 14,
   "metadata": {},
   "outputs": [],
   "source": [
    "precincts.to_file('CA_votes_dem_pct.shp')"
   ]
  },
  {
   "cell_type": "code",
   "execution_count": 12,
   "metadata": {},
   "outputs": [],
   "source": [
    "precincts.to_csv('joined_dem.csv')"
   ]
  },
  {
   "cell_type": "code",
   "execution_count": 13,
   "metadata": {},
   "outputs": [],
   "source": [
    "precincts.to_pickle('joined_dem.pkl')"
   ]
  },
  {
   "cell_type": "code",
   "execution_count": null,
   "metadata": {},
   "outputs": [],
   "source": []
  }
 ],
 "metadata": {
  "kernelspec": {
   "display_name": "Python 3",
   "language": "python",
   "name": "python3"
  },
  "language_info": {
   "codemirror_mode": {
    "name": "ipython",
    "version": 3
   },
   "file_extension": ".py",
   "mimetype": "text/x-python",
   "name": "python",
   "nbconvert_exporter": "python",
   "pygments_lexer": "ipython3",
   "version": "3.6.4"
  }
 },
 "nbformat": 4,
 "nbformat_minor": 2
}
